{
 "cells": [
  {
   "cell_type": "code",
   "execution_count": 1,
   "metadata": {},
   "outputs": [],
   "source": [
    "import pandas as pd\n",
    "import numpy as np\n",
    "import math"
   ]
  },
  {
   "cell_type": "markdown",
   "metadata": {},
   "source": [
    "### Load JSON into ORtools Input Format"
   ]
  },
  {
   "cell_type": "code",
   "execution_count": 2,
   "metadata": {},
   "outputs": [],
   "source": [
    "from Json_to_OR_tools import json2order, orders2Ortools\n",
    "\n",
    "filename = \"waypoints_order.json\"\n",
    "all_orders = json2order(filename)\n",
    "\n",
    "subset_num = 120\n",
    "all_orders = all_orders[:subset_num]\n",
    "\n",
    "# depot_lat = 1.35, depot_lon = 103.7, depot_tw_str = \"00:00-23:59\", depot_demand = 0 is default specified within orders2Ortools\n",
    "orders_time_matrix, pick_drop_list, time_window_list, demand_list = orders2Ortools(all_orders)"
   ]
  },
  {
   "cell_type": "markdown",
   "metadata": {},
   "source": [
    "### Helper Functions\n",
    "- create_data_model\n",
    "- print_solution"
   ]
  },
  {
   "cell_type": "code",
   "execution_count": 3,
   "metadata": {},
   "outputs": [],
   "source": [
    "'''need to parse json to extract and convert time format to time window'''\n",
    "\n",
    "def create_data_model(pd,time_mat,tw,num_veh,demand):\n",
    "    \"\"\"Stores the data for the problem.\"\"\"\n",
    "    data = {}\n",
    "    data['pickups_deliveries'] = pd\n",
    "    data['time_matrix'] = time_mat\n",
    "    data['time_windows'] = tw\n",
    "    data['num_vehicles'] = num_veh\n",
    "    data['depot'] = 0\n",
    "    data['demands'] = demand\n",
    "    data['vehicle_capacities'] = [2000 for i in range(data['num_vehicles'])]\n",
    "    return data\n"
   ]
  },
  {
   "cell_type": "code",
   "execution_count": 4,
   "metadata": {},
   "outputs": [],
   "source": [
    "def print_solution(data, manager, routing, solution):\n",
    "    \"\"\"Prints solution on console.\"\"\"\n",
    "    print(f'Objective: {solution.ObjectiveValue()}')\n",
    "    time_dimension = routing.GetDimensionOrDie('Time')\n",
    "    total_time = 0\n",
    "    total_load = 0\n",
    "    total_distance = 0\n",
    "    for vehicle_id in range(data['num_vehicles']):\n",
    "        index = routing.Start(vehicle_id)\n",
    "        plan_output = 'Route for vehicle {}:\\n'.format(vehicle_id)\n",
    "        route_distance = 0\n",
    "        route_load = 0\n",
    "        tardiness=0\n",
    "        while not routing.IsEnd(index):\n",
    "            #capacity\n",
    "            node_index = manager.IndexToNode(index)\n",
    "            route_load += data['demands'][node_index]\n",
    "            plan_output += ' {0} Load({1}) -> '.format(node_index, route_load)\n",
    "            previous_index = index\n",
    "            index = solution.Value(routing.NextVar(index))\n",
    "            route_distance += routing.GetArcCostForVehicle(\n",
    "                previous_index, index, vehicle_id)\n",
    "            \n",
    "        \n",
    "            \n",
    "        plan_output += ' {0} Load({1})\\n'.format(manager.IndexToNode(index),\n",
    "                                             route_load)\n",
    "#         plan_output += 'Distance of the route: {}m\\n'.format(route_distance)\n",
    "#         plan_output += 'Load of the route: {}\\n'.format(route_load)\n",
    "        \n",
    "        index = routing.Start(vehicle_id)\n",
    "        while not routing.IsEnd(index):\n",
    "            #time window\n",
    "            time_var = time_dimension.CumulVar(index)\n",
    "            plan_output += '{0} Time({1},{2}) -> '.format(\n",
    "                manager.IndexToNode(index), solution.Min(time_var),\n",
    "                solution.Max(time_var))\n",
    "            if index<len(data['time_windows']) and solution.Max(time_var)> data['time_windows'][index][1]:\n",
    "                tardiness+= solution.Max(time_var)-data['time_windows'][index][1]\n",
    "#                 tardiness+= time_dimension.SetCumulVarSoftUpperBound(index, data['time_windows'][index][1],1) \n",
    "            index = solution.Value(routing.NextVar(index))\n",
    "            \n",
    "        \n",
    "        time_var = time_dimension.CumulVar(index)\n",
    "        plan_output += '{0} Time({1},{2})\\n'.format(manager.IndexToNode(index),\n",
    "                                                    solution.Min(time_var),\n",
    "                                                    solution.Max(time_var))\n",
    "        plan_output += 'Time of the route: {}min\\n'.format(\n",
    "            solution.Min(time_var))\n",
    "        \n",
    "        plan_output += 'Tardiness of the route: {}min\\n'.format(\n",
    "            tardiness)\n",
    "        \n",
    "        print(plan_output)\n",
    "        \n",
    "        total_load += route_load\n",
    "        total_distance += route_distance\n",
    "        total_time += solution.Min(time_var)\n",
    "    print('Total time of all routes: {}min'.format(total_time))\n",
    "#     print('Total distance of all routes: {}m'.format(total_distance))\n",
    "#     print('Total load of all routes: {}'.format(total_load))"
   ]
  },
  {
   "cell_type": "markdown",
   "metadata": {},
   "source": [
    "### Main Function"
   ]
  },
  {
   "cell_type": "code",
   "execution_count": 5,
   "metadata": {},
   "outputs": [],
   "source": [
    "from ortools.constraint_solver import routing_enums_pb2\n",
    "from ortools.constraint_solver import pywrapcp\n",
    "\n",
    "def main(pd,time_mat,tw,num_veh,demand):\n",
    "    # Instantiate the data problem.\n",
    "    data = create_data_model(pd,time_mat,tw,num_veh,demand)\n",
    "    \n",
    "    # Create the routing index manager.\n",
    "    manager = pywrapcp.RoutingIndexManager(len(data['time_matrix']),\n",
    "                                           data['num_vehicles'], data['depot'])\n",
    "    # Create Routing Model.\n",
    "    routing = pywrapcp.RoutingModel(manager)\n",
    "    \n",
    "    # Define cost of each arc.\n",
    "    def time_callback(from_index, to_index):\n",
    "        \"\"\"Returns the time distance between the two nodes.\"\"\"\n",
    "        # Convert from routing variable Index to distance matrix NodeIndex.\n",
    "        from_node = manager.IndexToNode(from_index)\n",
    "        to_node = manager.IndexToNode(to_index)\n",
    "        return data['time_matrix'][from_node][to_node]\n",
    "    \n",
    "    transit_callback_index = routing.RegisterTransitCallback(time_callback)\n",
    "#     routing.SetArcCostEvaluatorOfAllVehicles(transit_callback_index)\n",
    "    \n",
    "    #Add time window constraint\n",
    "    dimension_name = 'Time'\n",
    "    routing.AddDimension(\n",
    "        transit_callback_index,\n",
    "        1439,  # allow waiting time\n",
    "        1439,  # maximum time per vehicle\n",
    "        False,  # Don't force start cumul to zero.\n",
    "        dimension_name)\n",
    "    time_dimension = routing.GetDimensionOrDie(dimension_name)\n",
    "    \n",
    "    \n",
    "    # Add time window constraints for each location except depot.\n",
    "    for location_idx, time_window in enumerate(data['time_windows']):\n",
    "        if location_idx == data['depot']:\n",
    "            continue\n",
    "        index = manager.NodeToIndex(location_idx)\n",
    "        time_dimension.CumulVar(index).SetRange(time_window[0], 1439)\n",
    "        time_dimension.SetCumulVarSoftUpperBound(index, time_window[1],1)    \n",
    "        \n",
    "    # Add time window constraints for each vehicle start node.\n",
    "    depot_idx = data['depot']\n",
    "    for vehicle_id in range(data['num_vehicles']):\n",
    "        index = routing.Start(vehicle_id)\n",
    "        time_dimension.CumulVar(index).SetRange(\n",
    "            data['time_windows'][depot_idx][0],\n",
    "            data['time_windows'][depot_idx][1])\n",
    "    \n",
    "    for i in range(data['num_vehicles']):\n",
    "        routing.AddVariableMinimizedByFinalizer(\n",
    "            time_dimension.CumulVar(routing.Start(i)))\n",
    "        routing.AddVariableMinimizedByFinalizer(\n",
    "            time_dimension.CumulVar(routing.End(i)))\n",
    "    \n",
    "    def demand_callback(from_index):\n",
    "        \"\"\"Returns the demand of the node.\"\"\"\n",
    "        # Convert from routing variable Index to demands NodeIndex.\n",
    "        from_node = manager.IndexToNode(from_index)\n",
    "        return data['demands'][from_node]\n",
    "\n",
    "    demand_callback_index = routing.RegisterUnaryTransitCallback(\n",
    "        demand_callback)\n",
    "    routing.AddDimensionWithVehicleCapacity(\n",
    "        demand_callback_index,\n",
    "        0,  # null capacity slack\n",
    "        data['vehicle_capacities'],  # vehicle maximum capacities\n",
    "        True,  # start cumul to zero\n",
    "        'Capacity')\n",
    "    \n",
    "    # Define Transportation Requests.\n",
    "    for request in data['pickups_deliveries']:\n",
    "        pickup_index = manager.NodeToIndex(request[0])\n",
    "        delivery_index = manager.NodeToIndex(request[1])\n",
    "        routing.AddPickupAndDelivery(pickup_index, delivery_index)\n",
    "        routing.solver().Add(\n",
    "            routing.VehicleVar(pickup_index) == routing.VehicleVar(\n",
    "                delivery_index))\n",
    "        routing.solver().Add(\n",
    "            time_dimension.CumulVar(pickup_index) <=\n",
    "            time_dimension.CumulVar(delivery_index))\n",
    "    \n",
    "    routing.SetFixedCostOfAllVehicles(60)\n",
    "     # Setting first solution heuristic.\n",
    "    search_parameters = pywrapcp.DefaultRoutingSearchParameters()\n",
    "#     search_parameters.solution_limit = 1\n",
    "    search_parameters.log_search = True\n",
    "    search_parameters.first_solution_strategy = (\n",
    "        routing_enums_pb2.FirstSolutionStrategy.PATH_CHEAPEST_ARC)\n",
    "    # search_parameters.time_limit.seconds = 120\n",
    "\n",
    "#     search_parameters.first_solution_strategy = (\n",
    "#         routing_enums_pb2.FirstSolutionStrategy.PARALLEL_CHEAPEST_INSERTION)\n",
    "    \n",
    "    # Solve the problem.\n",
    "    solution = routing.SolveWithParameters(search_parameters)\n",
    "    \n",
    "    # Print solution on console.\n",
    "    if solution:\n",
    "        print_solution(data, manager, routing, solution)\n",
    "    else:\n",
    "        print('Sol not found')\n",
    "    \n"
   ]
  },
  {
   "cell_type": "markdown",
   "metadata": {},
   "source": [
    "### Run Solver"
   ]
  },
  {
   "cell_type": "code",
   "execution_count": 6,
   "metadata": {},
   "outputs": [
    {
     "data": {
      "text/plain": [
       "'Sat Apr  2 23:02:11 2022'"
      ]
     },
     "execution_count": 6,
     "metadata": {},
     "output_type": "execute_result"
    }
   ],
   "source": [
    "import time\n",
    "time.ctime()"
   ]
  },
  {
   "cell_type": "code",
   "execution_count": 8,
   "metadata": {},
   "outputs": [
    {
     "name": "stdout",
     "output_type": "stream",
     "text": [
      "[(0, 1439), (840, 960), (840, 960), (480, 600), (480, 600), (540, 660), (540, 660), (900, 1020), (900, 1020), (900, 1020), (900, 1020), (900, 1020), (900, 1020), (900, 1020), (900, 1020), (900, 1020), (900, 1020), (900, 1020), (900, 1020), (840, 960), (840, 960), (840, 960), (840, 960), (840, 960), (840, 960), (900, 1020), (900, 1020), (900, 1020), (900, 1020), (900, 1020), (900, 1020), (1020, 1140), (1020, 1140), (1140, 1260), (1140, 1260), (540, 660), (540, 660), (540, 660), (540, 660), (540, 660), (540, 660), (600, 720), (600, 720), (600, 720), (600, 720), (600, 720), (600, 720), (600, 720), (600, 720), (840, 960), (840, 960), (900, 1020), (900, 1020), (900, 1020), (900, 1020), (720, 840), (720, 840), (720, 840), (720, 840), (720, 840), (720, 840), (720, 840), (720, 840), (720, 840), (720, 840), (720, 840), (720, 840), (720, 840), (720, 840), (720, 840), (720, 840), (720, 840), (720, 840), (720, 840), (720, 840), (720, 840), (720, 840), (720, 840), (720, 840), (720, 840), (720, 840), (720, 840), (720, 840), (720, 840), (720, 840), (720, 840), (720, 840), (720, 840), (720, 840), (720, 840), (720, 840), (720, 840), (720, 840), (720, 840), (720, 840), (720, 840), (720, 840), (720, 840), (720, 840), (840, 960), (840, 960), (840, 960), (840, 960), (900, 1020), (900, 1020), (900, 1020), (900, 1020), (900, 1020), (900, 1020), (960, 1080), (960, 1080), (960, 1080), (960, 1080), (960, 1080), (960, 1080), (960, 1080), (960, 1080), (1140, 1260), (1140, 1260), (780, 900), (780, 900)]\n"
     ]
    }
   ],
   "source": [
    "num_veh=10\n",
    "\n",
    "print(time_window_list)\n",
    "if __name__ == '__main__':\n",
    "    main(pick_drop_list,orders_time_matrix,time_window_list,num_veh,demand_list)"
   ]
  },
  {
   "cell_type": "code",
   "execution_count": null,
   "metadata": {},
   "outputs": [
    {
     "data": {
      "text/plain": [
       "'Sat Apr  2 22:36:15 2022'"
      ]
     },
     "execution_count": 8,
     "metadata": {},
     "output_type": "execute_result"
    }
   ],
   "source": [
    "import time\n",
    "time.ctime()"
   ]
  },
  {
   "cell_type": "code",
   "execution_count": null,
   "metadata": {},
   "outputs": [],
   "source": [
    "# started at 11.21am"
   ]
  },
  {
   "cell_type": "code",
   "execution_count": null,
   "metadata": {},
   "outputs": [],
   "source": []
  }
 ],
 "metadata": {
  "kernelspec": {
   "display_name": "Python 3",
   "language": "python",
   "name": "python3"
  },
  "language_info": {
   "codemirror_mode": {
    "name": "ipython",
    "version": 3
   },
   "file_extension": ".py",
   "mimetype": "text/x-python",
   "name": "python",
   "nbconvert_exporter": "python",
   "pygments_lexer": "ipython3",
   "version": "3.7.11"
  }
 },
 "nbformat": 4,
 "nbformat_minor": 4
}
